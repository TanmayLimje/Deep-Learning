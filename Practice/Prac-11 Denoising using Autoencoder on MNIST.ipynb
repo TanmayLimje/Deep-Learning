{
 "cells": [
  {
   "metadata": {
    "ExecuteTime": {
     "end_time": "2024-11-04T11:12:31.899601Z",
     "start_time": "2024-11-04T11:12:28.681539Z"
    }
   },
   "cell_type": "code",
   "source": [
    "import numpy as np\n",
    "import pandas as pd\n",
    "import matplotlib.pyplot as plt\n",
    "from sklearn.model_selection import train_test_split\n",
    "from tensorflow.keras.layers import Input, Dense, Conv2D, MaxPooling2D, UpSampling2D\n",
    "from tensorflow.keras.models import Model\n",
    "from tensorflow.keras import regularizers"
   ],
   "id": "68c91713067ee592",
   "outputs": [],
   "execution_count": 1
  },
  {
   "metadata": {
    "ExecuteTime": {
     "end_time": "2024-11-04T11:12:33.430152Z",
     "start_time": "2024-11-04T11:12:31.900616Z"
    }
   },
   "cell_type": "code",
   "source": [
    "data = pd.read_csv(\"D:/datasets/DL/mnist_784_csv.csv\")\n",
    "labels = data.iloc[:, 0].values  # Extract labels\n",
    "images = data.iloc[:, 1:].values / 255.0  # Normalize pixel values between 0 and 1\n",
    "images = images.reshape(-1, 28, 28, 1)"
   ],
   "id": "5ae6a6a4ccef06bd",
   "outputs": [],
   "execution_count": 2
  },
  {
   "metadata": {
    "ExecuteTime": {
     "end_time": "2024-11-04T11:12:34.549299Z",
     "start_time": "2024-11-04T11:12:33.430152Z"
    }
   },
   "cell_type": "code",
   "source": [
    "noise_factor = 0.5\n",
    "noisy_images = images + noise_factor * np.random.normal(loc=0.0, scale=1.0, size=images.shape)\n",
    "noisy_images = np.clip(noisy_images, 0.0, 1.0)"
   ],
   "id": "62985823f6c3d2e2",
   "outputs": [],
   "execution_count": 3
  },
  {
   "metadata": {
    "ExecuteTime": {
     "end_time": "2024-11-04T11:12:35.463478Z",
     "start_time": "2024-11-04T11:12:34.550425Z"
    }
   },
   "cell_type": "code",
   "source": "x_train, x_test, y_train, y_test = train_test_split(noisy_images, images, test_size=0.2, random_state=42)",
   "id": "12ff01eb55ecdff5",
   "outputs": [],
   "execution_count": 4
  },
  {
   "metadata": {
    "ExecuteTime": {
     "end_time": "2024-11-04T11:12:35.467830Z",
     "start_time": "2024-11-04T11:12:35.464565Z"
    }
   },
   "cell_type": "code",
   "source": "input_img = Input(shape=(28, 28, 1))",
   "id": "d37188f537b0e676",
   "outputs": [],
   "execution_count": 5
  },
  {
   "metadata": {
    "ExecuteTime": {
     "end_time": "2024-11-04T11:12:35.517880Z",
     "start_time": "2024-11-04T11:12:35.467830Z"
    }
   },
   "cell_type": "code",
   "source": [
    "# Encoder\n",
    "x = Conv2D(32, (3, 3), activation='relu', padding='same')(input_img)\n",
    "x = MaxPooling2D((2, 2), padding='same')(x)\n",
    "x = Conv2D(16, (3, 3), activation='relu', padding='same')(x)\n",
    "x = MaxPooling2D((2, 2), padding='same')(x)"
   ],
   "id": "bbc527202fafed07",
   "outputs": [],
   "execution_count": 6
  },
  {
   "metadata": {
    "ExecuteTime": {
     "end_time": "2024-11-04T11:12:35.534694Z",
     "start_time": "2024-11-04T11:12:35.518392Z"
    }
   },
   "cell_type": "code",
   "source": [
    "# Decoder\n",
    "x = Conv2D(16, (3, 3), activation='relu', padding='same')(x)\n",
    "x = UpSampling2D((2, 2))(x)\n",
    "x = Conv2D(32, (3, 3), activation='relu', padding='same')(x)\n",
    "x = UpSampling2D((2, 2))(x)\n",
    "decoded = Conv2D(1, (3, 3), activation='sigmoid', padding='same')(x)"
   ],
   "id": "780765001ca4840e",
   "outputs": [],
   "execution_count": 7
  },
  {
   "metadata": {
    "ExecuteTime": {
     "end_time": "2024-11-04T11:12:35.544544Z",
     "start_time": "2024-11-04T11:12:35.535772Z"
    }
   },
   "cell_type": "code",
   "source": [
    "# Compile the model\n",
    "autoencoder = Model(input_img, decoded)\n",
    "autoencoder.compile(optimizer='adam', loss='binary_crossentropy')"
   ],
   "id": "b749de99ecc4da5c",
   "outputs": [],
   "execution_count": 8
  },
  {
   "metadata": {
    "ExecuteTime": {
     "end_time": "2024-11-04T11:13:36.918178Z",
     "start_time": "2024-11-04T11:12:35.544544Z"
    }
   },
   "cell_type": "code",
   "source": "autoencoder.fit(x_train, x_train, epochs=10, batch_size=128, validation_data=(x_test, x_test))",
   "id": "5f7b69e10feeec8b",
   "outputs": [
    {
     "name": "stdout",
     "output_type": "stream",
     "text": [
      "Epoch 1/10\n",
      "\u001B[1m438/438\u001B[0m \u001B[32m━━━━━━━━━━━━━━━━━━━━\u001B[0m\u001B[37m\u001B[0m \u001B[1m6s\u001B[0m 13ms/step - loss: 0.5582 - val_loss: 0.4912\n",
      "Epoch 2/10\n",
      "\u001B[1m438/438\u001B[0m \u001B[32m━━━━━━━━━━━━━━━━━━━━\u001B[0m\u001B[37m\u001B[0m \u001B[1m5s\u001B[0m 12ms/step - loss: 0.4877 - val_loss: 0.4783\n",
      "Epoch 3/10\n",
      "\u001B[1m438/438\u001B[0m \u001B[32m━━━━━━━━━━━━━━━━━━━━\u001B[0m\u001B[37m\u001B[0m \u001B[1m5s\u001B[0m 12ms/step - loss: 0.4752 - val_loss: 0.4639\n",
      "Epoch 4/10\n",
      "\u001B[1m438/438\u001B[0m \u001B[32m━━━━━━━━━━━━━━━━━━━━\u001B[0m\u001B[37m\u001B[0m \u001B[1m6s\u001B[0m 13ms/step - loss: 0.4612 - val_loss: 0.4563\n",
      "Epoch 5/10\n",
      "\u001B[1m438/438\u001B[0m \u001B[32m━━━━━━━━━━━━━━━━━━━━\u001B[0m\u001B[37m\u001B[0m \u001B[1m6s\u001B[0m 14ms/step - loss: 0.4533 - val_loss: 0.4490\n",
      "Epoch 6/10\n",
      "\u001B[1m438/438\u001B[0m \u001B[32m━━━━━━━━━━━━━━━━━━━━\u001B[0m\u001B[37m\u001B[0m \u001B[1m6s\u001B[0m 14ms/step - loss: 0.4484 - val_loss: 0.4454\n",
      "Epoch 7/10\n",
      "\u001B[1m438/438\u001B[0m \u001B[32m━━━━━━━━━━━━━━━━━━━━\u001B[0m\u001B[37m\u001B[0m \u001B[1m6s\u001B[0m 14ms/step - loss: 0.4449 - val_loss: 0.4430\n",
      "Epoch 8/10\n",
      "\u001B[1m438/438\u001B[0m \u001B[32m━━━━━━━━━━━━━━━━━━━━\u001B[0m\u001B[37m\u001B[0m \u001B[1m6s\u001B[0m 15ms/step - loss: 0.4422 - val_loss: 0.4407\n",
      "Epoch 9/10\n",
      "\u001B[1m438/438\u001B[0m \u001B[32m━━━━━━━━━━━━━━━━━━━━\u001B[0m\u001B[37m\u001B[0m \u001B[1m6s\u001B[0m 14ms/step - loss: 0.4401 - val_loss: 0.4388\n",
      "Epoch 10/10\n",
      "\u001B[1m438/438\u001B[0m \u001B[32m━━━━━━━━━━━━━━━━━━━━\u001B[0m\u001B[37m\u001B[0m \u001B[1m7s\u001B[0m 15ms/step - loss: 0.4386 - val_loss: 0.4374\n"
     ]
    },
    {
     "data": {
      "text/plain": [
       "<keras.src.callbacks.history.History at 0x215d5033230>"
      ]
     },
     "execution_count": 9,
     "metadata": {},
     "output_type": "execute_result"
    }
   ],
   "execution_count": 9
  },
  {
   "metadata": {
    "ExecuteTime": {
     "end_time": "2024-11-04T11:13:38.868892Z",
     "start_time": "2024-11-04T11:13:36.919188Z"
    }
   },
   "cell_type": "code",
   "source": "denoised_images = autoencoder.predict(x_test)",
   "id": "71935cf4e5a96824",
   "outputs": [
    {
     "name": "stdout",
     "output_type": "stream",
     "text": [
      "\u001B[1m438/438\u001B[0m \u001B[32m━━━━━━━━━━━━━━━━━━━━\u001B[0m\u001B[37m\u001B[0m \u001B[1m2s\u001B[0m 4ms/step\n"
     ]
    }
   ],
   "execution_count": 10
  },
  {
   "metadata": {
    "ExecuteTime": {
     "end_time": "2024-11-04T11:13:39.877317Z",
     "start_time": "2024-11-04T11:13:38.869907Z"
    }
   },
   "cell_type": "code",
   "source": [
    "# Display a sample image for each digit (0-9)\n",
    "fig, axs = plt.subplots(3, 10, figsize=(20, 6))\n",
    "\n",
    "# Initialize a list to track how many digits we found\n",
    "found_digits = {digit: False for digit in range(10)}\n",
    "\n",
    "# Find indices for all digits in y_test\n",
    "for digit in range(10):\n",
    "    indices = np.where(y_test == digit)[0]  # Get all indices for the current digit\n",
    "    if len(indices) > 0:  # Check if there are any indices\n",
    "        found_digits[digit] = True  # Mark that we've found this digit\n",
    "\n",
    "        idx = indices[0]  # Take the first index of the digit\n",
    "\n",
    "        # Original noisy image\n",
    "        axs[0, digit].imshow(x_test[idx].reshape(28, 28), cmap='gray')\n",
    "        axs[0, digit].axis('off')\n",
    "        axs[0, digit].set_title(f\"Noisy {digit}\")\n",
    "\n",
    "        # Original clean image\n",
    "        axs[1, digit].imshow(y_test[idx].reshape(28, 28), cmap='gray')\n",
    "        axs[1, digit].axis('off')\n",
    "        axs[1, digit].set_title(f\"Original {digit}\")\n",
    "\n",
    "        # Denoised image\n",
    "        denoised_img = autoencoder.predict(x_test[idx].reshape(1, 28, 28, 1))\n",
    "        axs[2, digit].imshow(denoised_img.reshape(28, 28), cmap='gray')\n",
    "        axs[2, digit].axis('off')\n",
    "        axs[2, digit].set_title(f\"Denoised {digit}\")\n",
    "\n",
    "# For digits not found, turn off the axes\n",
    "for digit in range(10):\n",
    "    if not found_digits[digit]:\n",
    "        axs[0, digit].axis('off')\n",
    "        axs[1, digit].axis('off')\n",
    "        axs[2, digit].axis('off')\n",
    "\n",
    "plt.show()\n"
   ],
   "id": "d940d5ad2cbaac3f",
   "outputs": [
    {
     "name": "stdout",
     "output_type": "stream",
     "text": [
      "\u001B[1m1/1\u001B[0m \u001B[32m━━━━━━━━━━━━━━━━━━━━\u001B[0m\u001B[37m\u001B[0m \u001B[1m0s\u001B[0m 33ms/step\n",
      "\u001B[1m1/1\u001B[0m \u001B[32m━━━━━━━━━━━━━━━━━━━━\u001B[0m\u001B[37m\u001B[0m \u001B[1m0s\u001B[0m 17ms/step\n"
     ]
    },
    {
     "data": {
      "text/plain": [
       "<Figure size 2000x600 with 30 Axes>"
      ],
      "image/png": "[encoded data removed]"
     },
     "metadata": {},
     "output_type": "display_data"
    }
   ],
   "execution_count": 11
  },
  {
   "metadata": {
    "ExecuteTime": {
     "end_time": "2024-11-04T11:13:40.750678Z",
     "start_time": "2024-11-04T11:13:40.748329Z"
    }
   },
   "cell_type": "code",
   "source": "",
   "id": "a59dad2f1ed7df53",
   "outputs": [],
   "execution_count": 12
  }
 ],
 "metadata": {
  "kernelspec": {
   "display_name": "Python 3",
   "language": "python",
   "name": "python3"
  },
  "language_info": {
   "codemirror_mode": {
    "name": "ipython",
    "version": 2
   },
   "file_extension": ".py",
   "mimetype": "text/x-python",
   "name": "python",
   "nbconvert_exporter": "python",
   "pygments_lexer": "ipython2",
   "version": "2.7.6"
  }
 },
 "nbformat": 4,
 "nbformat_minor": 5
}
